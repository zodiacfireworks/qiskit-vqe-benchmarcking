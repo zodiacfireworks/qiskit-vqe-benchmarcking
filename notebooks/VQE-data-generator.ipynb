{
 "cells": [
  {
   "cell_type": "markdown",
   "metadata": {},
   "source": [
    "# **$LiH$ Ground State with Qiskit**"
   ]
  },
  {
   "cell_type": "markdown",
   "metadata": {},
   "source": [
    "By Martin Vuelta ([@zodiacfireworks](https://github.com/zodiacfireworks))"
   ]
  },
  {
   "cell_type": "markdown",
   "metadata": {},
   "source": [
    "## **Preliminaries**"
   ]
  },
  {
   "cell_type": "markdown",
   "metadata": {},
   "source": [
    "### *Check machine capabilities*"
   ]
  },
  {
   "cell_type": "code",
   "execution_count": null,
   "metadata": {},
   "outputs": [],
   "source": [
    "!free -h"
   ]
  },
  {
   "cell_type": "code",
   "execution_count": null,
   "metadata": {},
   "outputs": [],
   "source": [
    "!lscpu | egrep 'Model name|Socket|Thread|NUMA|CPU\\(s\\)'"
   ]
  },
  {
   "cell_type": "markdown",
   "metadata": {},
   "source": [
    "### *Install dependecies*"
   ]
  },
  {
   "cell_type": "code",
   "execution_count": null,
   "metadata": {},
   "outputs": [],
   "source": [
    "!pip install --upgrade qiskit dill\n",
    "\n",
    "from IPython.display import clear_output\n",
    "\n",
    "clear_output()"
   ]
  },
  {
   "cell_type": "markdown",
   "metadata": {},
   "source": [
    "### *Qiskit imports*"
   ]
  },
  {
   "cell_type": "code",
   "execution_count": null,
   "metadata": {},
   "outputs": [],
   "source": [
    "import pickle\n",
    "from datetime import datetime\n",
    "from functools import partial\n",
    "\n",
    "import dill\n",
    "import numpy as np\n",
    "import pandas\n",
    "import qiskit.tools.jupyter\n",
    "from qiskit import IBMQ, Aer, BasicAer\n",
    "from qiskit.aqua import QuantumInstance, aqua_globals\n",
    "from qiskit.aqua.algorithms import VQE, ExactEigensolver, NumPyEigensolver\n",
    "from qiskit.aqua.components.initial_states import Zero\n",
    "from qiskit.aqua.components.optimizers import COBYLA, L_BFGS_B, SLSQP, SPSA\n",
    "from qiskit.aqua.components.variational_forms import RY, RYRZ, SwapRZ\n",
    "from qiskit.aqua.operators import WeightedPauliOperator, Z2Symmetries\n",
    "from qiskit.chemistry import FermionicOperator\n",
    "from qiskit.chemistry.components.initial_states import HartreeFock\n",
    "from qiskit.chemistry.components.variational_forms import UCCSD\n",
    "from qiskit.chemistry.drivers import PySCFDriver, UnitsType\n",
    "from qiskit.circuit.library import EfficientSU2\n",
    "from qiskit.ignis.mitigation.measurement import CompleteMeasFitter\n",
    "from qiskit.providers.aer import QasmSimulator, noise\n",
    "from qiskit.providers.aer.noise import NoiseModel\n",
    "from qiskit.providers.aer.noise.errors import (\n",
    "    QuantumError,\n",
    "    ReadoutError,\n",
    "    depolarizing_error,\n",
    "    pauli_error,\n",
    "    thermal_relaxation_error,\n",
    ")\n",
    "from qiskit.providers.ibmq import least_busy"
   ]
  },
  {
   "cell_type": "markdown",
   "metadata": {},
   "source": [
    "The qiskit summary"
   ]
  },
  {
   "cell_type": "code",
   "execution_count": null,
   "metadata": {},
   "outputs": [],
   "source": [
    "%qiskit_version_table"
   ]
  },
  {
   "cell_type": "markdown",
   "metadata": {},
   "source": [
    "Loads the IBMQ account, please run just once!"
   ]
  },
  {
   "cell_type": "code",
   "execution_count": null,
   "metadata": {},
   "outputs": [],
   "source": [
    "# token = \"put your token here!\"\n",
    "# IBMQ.save_account(token, overwrite=True)"
   ]
  },
  {
   "cell_type": "code",
   "execution_count": null,
   "metadata": {},
   "outputs": [],
   "source": [
    "provider = IBMQ.load_account()"
   ]
  },
  {
   "cell_type": "markdown",
   "metadata": {},
   "source": [
    "### *Plot settings*"
   ]
  },
  {
   "cell_type": "code",
   "execution_count": null,
   "metadata": {},
   "outputs": [],
   "source": [
    "from distutils.spawn import find_executable\n",
    "\n",
    "import seaborn\n",
    "from matplotlib import pyplot as plt\n",
    "from matplotlib import rc\n",
    "\n",
    "seaborn.set(context=\"notebook\", style=\"darkgrid\")\n",
    "plt.ioff()\n",
    "\n",
    "rem = 16\n",
    "rc(\"lines\", linewidth=1)\n",
    "rc(\"font\", family=\"serif\")\n",
    "rc(\"font\", size=rem)\n",
    "rc(\"axes\", titlepad=1.500 * rem)\n",
    "rc(\"axes\", titlesize=1.728 * rem)\n",
    "rc(\"axes\", labelsize=1.200 * rem)\n",
    "rc(\"legend\", fontsize=1.000 * rem)\n",
    "rc(\"xtick\", labelsize=0.833 * rem)\n",
    "rc(\"ytick\", labelsize=0.833 * rem)\n",
    "\n",
    "if find_executable(\"latex\"):\n",
    "    rc(\"text\", usetex=True)\n",
    "\n",
    "material_palette = {\n",
    "    -1: \"#212121\",\n",
    "    0: \"#F44336\",\n",
    "    1: \"#E91E63\",\n",
    "    2: \"#9C27B0\",\n",
    "    3: \"#673AB7\",\n",
    "    4: \"#3F51B5\",\n",
    "    5: \"#2196F3\",\n",
    "    6: \"#03A9F4\",\n",
    "    7: \"#00BCD4\",\n",
    "    8: \"#009688\",\n",
    "    9: \"#4CAF50\",\n",
    "    10: \"#8BC34A\",\n",
    "    11: \"#CDDC39\",\n",
    "    12: \"#FFEB3B\",\n",
    "    13: \"#FFC107\",\n",
    "    14: \"#FF9800\",\n",
    "    15: \"#FF5722\",\n",
    "}"
   ]
  },
  {
   "cell_type": "code",
   "execution_count": null,
   "metadata": {},
   "outputs": [],
   "source": [
    "%matplotlib inline"
   ]
  },
  {
   "cell_type": "markdown",
   "metadata": {},
   "source": [
    "### *Prevent the warnings sea*"
   ]
  },
  {
   "cell_type": "code",
   "execution_count": null,
   "metadata": {},
   "outputs": [],
   "source": [
    "import warnings\n",
    "\n",
    "warnings.simplefilter(\"ignore\")"
   ]
  },
  {
   "cell_type": "markdown",
   "metadata": {},
   "source": [
    "## **Simulation in action!**"
   ]
  },
  {
   "cell_type": "markdown",
   "metadata": {},
   "source": [
    "### *Prepare the qubit operations*"
   ]
  },
  {
   "cell_type": "code",
   "execution_count": null,
   "metadata": {},
   "outputs": [],
   "source": [
    "def compute_LiH_qubitOp(map_type, inter_dist, basis=\"sto3g\"):\n",
    "    driver = PySCFDriver(\n",
    "        atom=f\"Li .0 .0 .0; H .0 .0 {inter_dist}\",\n",
    "        unit=UnitsType.ANGSTROM,\n",
    "        charge=0,\n",
    "        spin=0,\n",
    "        basis=basis,\n",
    "    )\n",
    "\n",
    "    molecule = driver.run()\n",
    "\n",
    "    h1 = molecule.one_body_integrals\n",
    "    h2 = molecule.two_body_integrals\n",
    "\n",
    "    nuclear_repulsion_energy = molecule.nuclear_repulsion_energy\n",
    "    num_particles = molecule.num_alpha + molecule.num_beta\n",
    "    num_spin_orbitals = molecule.num_orbitals * 2\n",
    "\n",
    "    freeze_list = [0]\n",
    "    remove_list = [-3, -2]\n",
    "\n",
    "    remove_list = [x % molecule.num_orbitals for x in remove_list]\n",
    "    freeze_list = [x % molecule.num_orbitals for x in freeze_list]\n",
    "\n",
    "    remove_list = [x - len(freeze_list) for x in remove_list]\n",
    "    remove_list += [x + molecule.num_orbitals - len(freeze_list) for x in remove_list]\n",
    "    freeze_list += [x + molecule.num_orbitals for x in freeze_list]\n",
    "\n",
    "    energy_shift = 0.0\n",
    "    qubit_reduction = True if map_type == \"parity\" else False\n",
    "\n",
    "    ferOp = FermionicOperator(h1=h1, h2=h2)\n",
    "\n",
    "    if len(freeze_list) > 0:\n",
    "        ferOp, energy_shift = ferOp.fermion_mode_freezing(freeze_list)\n",
    "        num_spin_orbitals -= len(freeze_list)\n",
    "        num_particles -= len(freeze_list)\n",
    "\n",
    "    if len(remove_list) > 0:\n",
    "        ferOp = ferOp.fermion_mode_elimination(remove_list)\n",
    "        num_spin_orbitals -= len(remove_list)\n",
    "\n",
    "    qubitOp = ferOp.mapping(map_type=map_type)\n",
    "    qubitOp = (\n",
    "        Z2Symmetries.two_qubit_reduction(qubitOp, num_particles)\n",
    "        if qubit_reduction\n",
    "        else qubitOp\n",
    "    )\n",
    "\n",
    "    qubitOp.chop(10 ** -10)\n",
    "\n",
    "    return {\n",
    "        \"molecule\": molecule,\n",
    "        \"qubitOp\": qubitOp,\n",
    "        \"num_spin_orbitals\": num_spin_orbitals,\n",
    "        \"num_particles\": num_particles,\n",
    "        \"qubit_reduction\": qubit_reduction,\n",
    "        \"energy_shift\": energy_shift + nuclear_repulsion_energy,\n",
    "    }"
   ]
  },
  {
   "cell_type": "markdown",
   "metadata": {},
   "source": [
    "### *Prepere basic experiment conditions*"
   ]
  },
  {
   "cell_type": "code",
   "execution_count": null,
   "metadata": {},
   "outputs": [],
   "source": [
    "map_types = [\"parity\", \"bravyi_kitaev\", \"jordan_wigner\"]\n",
    "distances = np.linspace(0.5, 3.5, 31)"
   ]
  },
  {
   "cell_type": "markdown",
   "metadata": {},
   "source": [
    "Since qubit operations dependes on qubit mapping and interatomic distance, I setup a settings map as follows"
   ]
  },
  {
   "cell_type": "code",
   "execution_count": null,
   "metadata": {},
   "outputs": [],
   "source": [
    "timer = datetime.now()\n",
    "\n",
    "# Effective computation of qubitOp for (distance, map_type)\n",
    "# combinations\n",
    "settings_tree = {}\n",
    "combination_counter = 0\n",
    "\n",
    "for distance in distances:\n",
    "    for map_type in map_types:\n",
    "        key = (\n",
    "            distance,\n",
    "            map_type,\n",
    "        )\n",
    "\n",
    "        if key not in settings_tree:\n",
    "            settings_tree[key] = compute_LiH_qubitOp(\n",
    "                map_type=map_type, inter_dist=distance, basis=\"sto3g\"\n",
    "            )\n",
    "            combination_counter = combination_counter + 1\n",
    "\n",
    "timer = datetime.now() - timer\n",
    "\n",
    "print(\"Settings computed!\")\n",
    "print(f\"{combination_counter} configuration settings computed in {timer}\")"
   ]
  },
  {
   "cell_type": "markdown",
   "metadata": {},
   "source": [
    "Now save the object generated in pickle format in order to reuse them and avoid the pain to run settings computation again"
   ]
  },
  {
   "cell_type": "code",
   "execution_count": null,
   "metadata": {},
   "outputs": [],
   "source": [
    "file = open(\"settings_tree.pkl\", \"wb\")\n",
    "dill.dump(settings_tree, file)\n",
    "file.close()"
   ]
  },
  {
   "cell_type": "markdown",
   "metadata": {},
   "source": [
    "Run the following cell in order to load `settings_tree` from pickle file instead of recomputting it again"
   ]
  },
  {
   "cell_type": "code",
   "execution_count": null,
   "metadata": {},
   "outputs": [],
   "source": [
    "# file = open(\"settings_tree.pkl\", \"rb\")\n",
    "# settings_tree = dill.load(file)\n",
    "# file.close()"
   ]
  },
  {
   "cell_type": "markdown",
   "metadata": {},
   "source": [
    "### *Look for exact solutions*"
   ]
  },
  {
   "cell_type": "code",
   "execution_count": null,
   "metadata": {},
   "outputs": [],
   "source": [
    "def exact_solver(qubitOp):\n",
    "    solver = NumPyEigensolver(qubitOp)\n",
    "\n",
    "    return solver.run()"
   ]
  },
  {
   "cell_type": "code",
   "execution_count": null,
   "metadata": {},
   "outputs": [],
   "source": [
    "timer = datetime.now()\n",
    "\n",
    "# Effective computation of solutions using NumPyEigensolver (aka ExactEigensolver)\n",
    "# for (distance, map_type) combinations in settings_tree\n",
    "exact_energies = {}\n",
    "combination_counter = 0\n",
    "\n",
    "for key in settings_tree:\n",
    "    if key not in exact_energies:\n",
    "        settings = settings_tree[key]\n",
    "        qubitOp = settings[\"qubitOp\"]\n",
    "\n",
    "        # Exact energy computation\n",
    "        solver_timer = datetime.now()\n",
    "        exact_energies[key] = exact_solver(qubitOp)\n",
    "        solver_timer = datetime.now() - solver_timer\n",
    "\n",
    "        exact_energies[key] = dict(exact_energies[key])\n",
    "        exact_energies[key].update({\"execution_time\": solver_timer})\n",
    "        combination_counter = combination_counter + 1\n",
    "\n",
    "timer = datetime.now() - timer\n",
    "\n",
    "print(\"Exact Energies computed!\")\n",
    "print(f\"{combination_counter} energies computed in {timer}\")"
   ]
  },
  {
   "cell_type": "markdown",
   "metadata": {},
   "source": [
    "Now save the object generated in pickle format in order to reuse them and avoid the pain to run exact energy computation again"
   ]
  },
  {
   "cell_type": "code",
   "execution_count": null,
   "metadata": {},
   "outputs": [],
   "source": [
    "file = open(\"exact_energies.pkl\", \"wb\")\n",
    "dill.dump(exact_energies, file)\n",
    "file.close()"
   ]
  },
  {
   "cell_type": "markdown",
   "metadata": {},
   "source": [
    "Run the following cell in order to load `settings_tree` from pickle file instead of recomputting it again"
   ]
  },
  {
   "cell_type": "code",
   "execution_count": null,
   "metadata": {},
   "outputs": [],
   "source": [
    "# file = open(\"exact_energies.pkl\", \"rb\")\n",
    "# exact_energies = dill.load(file)\n",
    "# file.close()"
   ]
  },
  {
   "cell_type": "markdown",
   "metadata": {},
   "source": [
    "#### Showing data as table"
   ]
  },
  {
   "cell_type": "code",
   "execution_count": null,
   "metadata": {},
   "outputs": [],
   "source": [
    "data = {\"distance\": distances}\n",
    "\n",
    "for map_type in map_types:\n",
    "    data[map_type] = []\n",
    "\n",
    "    for key in exact_energies:\n",
    "        if map_type in key:\n",
    "            # Get the interatomic distance\n",
    "            distance, _ = key\n",
    "\n",
    "            # Get the energy shift\n",
    "            settings = settings_tree[key]\n",
    "            shift = settings[\"energy_shift\"]\n",
    "\n",
    "            energy = exact_energies[key]\n",
    "            energy = energy[\"eigenvalues\"][0].real\n",
    "            energy = energy + shift\n",
    "\n",
    "            data[map_type].append((distance, energy))\n",
    "\n",
    "    # ensure sorting\n",
    "    data[map_type] = sorted(data[map_type], key=lambda x: x[0])\n",
    "    _, data[map_type] = zip(*data[map_type])\n",
    "\n",
    "data = pandas.DataFrame(data=data)\n",
    "data"
   ]
  },
  {
   "cell_type": "markdown",
   "metadata": {},
   "source": [
    "Save the data to CSV"
   ]
  },
  {
   "cell_type": "code",
   "execution_count": null,
   "metadata": {},
   "outputs": [],
   "source": [
    "data.to_csv(\"exact_energies.csv\", index=False)"
   ]
  },
  {
   "cell_type": "markdown",
   "metadata": {},
   "source": [
    "#### Plot for exact solutions"
   ]
  },
  {
   "cell_type": "code",
   "execution_count": null,
   "metadata": {},
   "outputs": [],
   "source": [
    "ratio = 16.0 / 9.0\n",
    "width = 16\n",
    "height = width / ratio\n",
    "\n",
    "fig = plt.figure(1, figsize=(width, height), frameon=False)\n",
    "axs = fig.add_subplot(\"111\")\n",
    "\n",
    "x = data[\"distance\"]\n",
    "\n",
    "for i, map_type in enumerate(map_types, 1):\n",
    "    y = data[map_type]\n",
    "    label = r\"$\\mathtt{{{0}}}$\".format(map_type.replace(\"_\", \"\\_\"))\n",
    "    axs.plot(x, y, label=label, color=material_palette[(i + 2) ** 2 % 16])\n",
    "\n",
    "axs.set_xlim(0, 4)\n",
    "axs.set_xlabel(\"$\\mathrm{Atomic\\ distance\\ (\\AA)}$\")\n",
    "\n",
    "axs.set_ylim(-8, -7)\n",
    "axs.set_ylabel(\"Energy\")\n",
    "axs.set_yticks([y for y in np.arange(-8, -6.9, 0.2)])\n",
    "\n",
    "axs.set_title(\"$\\mathrm{Energy\\ for\\ LiH}$\")\n",
    "\n",
    "axs.legend(loc=1, title=\"$\\mathbf{Qubit\\ mappings}$\")\n",
    "axs.grid(linestyle=\"-\")\n",
    "fig.tight_layout()\n",
    "plt.show()"
   ]
  },
  {
   "cell_type": "markdown",
   "metadata": {},
   "source": [
    "### *Looking for quantum solver*"
   ]
  },
  {
   "cell_type": "markdown",
   "metadata": {},
   "source": [
    "#### Useful functions and variables"
   ]
  },
  {
   "cell_type": "code",
   "execution_count": null,
   "metadata": {},
   "outputs": [],
   "source": [
    "def get_device(provider, chip_name=None, min_qubits=0):\n",
    "    \"\"\"Return device with name `chip_name` from provider.\n",
    "    \n",
    "    If `chip_name` is not provided then return the least busy device.\n",
    "    \"\"\"\n",
    "\n",
    "    if chip_name:\n",
    "        return provider.get_backend(chip_name)\n",
    "\n",
    "    return least_busy(\n",
    "        provider.backends(\n",
    "            filters=lambda x: (\n",
    "                x.configuration().n_qubits >= min_qubits\n",
    "                and not x.configuration().simulator\n",
    "                and x.status().operational == True\n",
    "            )\n",
    "        )\n",
    "    )"
   ]
  },
  {
   "cell_type": "code",
   "execution_count": null,
   "metadata": {},
   "outputs": [],
   "source": [
    "def get_backend(kind, device=None, **kwargs):\n",
    "    \"\"\"Return the QuantumInstance backend,\n",
    "    \n",
    "    If `kind='noisy'` then `device` is required and `kwargs` must contain\n",
    "    `shots` key.\n",
    "    \"\"\"\n",
    "\n",
    "    if kind == \"sv\":\n",
    "        return Aer.get_backend(\"statevector_simulator\")\n",
    "\n",
    "    if kind == \"qasm\":\n",
    "        return Aer.get_backend(\"qasm_simulator\")\n",
    "\n",
    "    if kind == \"noisy\":\n",
    "        coupling_map = device.configuration().coupling_map\n",
    "        noise_model = noise.device.basic_device_noise_model(device.properties())\n",
    "        basis_gates = noise_model.basis_gates\n",
    "\n",
    "        return QuantumInstance(\n",
    "            backend=Aer.get_backend(\"qasm_simulator\"),\n",
    "            noise_model=noise_model,\n",
    "            coupling_map=coupling_map,\n",
    "            measurement_error_mitigation_cls=CompleteMeasFitter,\n",
    "            cals_matrix_refresh_period=30,\n",
    "            basis_gates=noise_model.basis_gates,\n",
    "            **kwargs,\n",
    "        )\n",
    "\n",
    "    raise ValueError(f\"`kind` must be 'sv', 'qasm' or 'noisy', not {kind}\")"
   ]
  },
  {
   "cell_type": "code",
   "execution_count": null,
   "metadata": {},
   "outputs": [],
   "source": [
    "def get_optimizer(kind, iterations=100, **kwargs):\n",
    "    if kind == \"cobyla\":\n",
    "        return COBYLA(maxiter=iterations, **kwargs)\n",
    "\n",
    "    if kind == \"l_bfgs_b\":\n",
    "        return L_BFGS_B(maxiter=iterations, **kwargs)\n",
    "\n",
    "    if kind == \"slsqp\":\n",
    "        return SLSQP(maxiter=iterations, **kwargs)\n",
    "\n",
    "    if kind == \"spsa\":\n",
    "        return SPSA(max_trials=iterations, **kwargs)\n",
    "\n",
    "    raise ValueError(\n",
    "        \"`kind` mist be one `cobyla`, `l_bfgs_b`, `slsqp` or `spsa`, \" f\" not {kind}\"\n",
    "    )"
   ]
  },
  {
   "cell_type": "code",
   "execution_count": null,
   "metadata": {},
   "outputs": [],
   "source": [
    "def init_state(kind, qubitOp=None, **kwargs):\n",
    "    \"\"\"Return the initial state based on `kind` parameter.\n",
    "    \n",
    "    If `kind='hf'`, `kwargs` must contain `num_orbitals`, `num_particles`,\n",
    "    `map_type` and `qubit_reduction` keys for a correct HartreeFock state \n",
    "    initialization.\n",
    "    \"\"\"\n",
    "\n",
    "    if kind == \"zero\":\n",
    "        return Zero(qubitOp.num_qubits)\n",
    "\n",
    "    if kind == \"hf\":\n",
    "        qubit_mapping = kwargs.get(\"qubit_mapping\", None)\n",
    "\n",
    "        if qubit_mapping and qubit_mapping != \"parity\":\n",
    "            kwargs.update({\"two_qubit_reduction\": False})\n",
    "\n",
    "        return HartreeFock(\n",
    "            **kwargs\n",
    "            # num_orbitals=settings[\"qubitOp\"].num_qubits,\n",
    "            # num_particles=settings[\"num_particles\"],\n",
    "            # qubit_mapping=map_type,\n",
    "            # two_qubit_reduction=settings[\"qubit_reduction\"],\n",
    "        )\n",
    "\n",
    "    raise ValueError(f\"`kind` must be 'zero' or 'hf', not {kind}\")"
   ]
  },
  {
   "cell_type": "code",
   "execution_count": null,
   "metadata": {},
   "outputs": [],
   "source": [
    "def variational_form(kind, initial_state, qubitOp=None, **kwargs):\n",
    "    \"\"\"Return variational form given it's kind.\n",
    "    \n",
    "    If `kind=\"uccsd\"`, `kwargs` must contains the folowing keys:\n",
    "        - `num_orbitals`\n",
    "        - `num_particles`\n",
    "        - `qubit_mapping`\n",
    "        - `two_qubit_reduction`\n",
    "    \"\"\"\n",
    "    if kind == \"uccsd\":\n",
    "        return UCCSD(\n",
    "            **kwargs,\n",
    "            initial_state=initial_state,\n",
    "            excitation_type=\"s\",\n",
    "            method_singles=\"beta\",\n",
    "            reps=2,\n",
    "            # num_orbitals=settings[\"num_spin_orbitals\"],\n",
    "            # num_particles=settings[\"num_particles\"],\n",
    "            # qubit_mapping=map_type,\n",
    "            # two_qubit_reduction=settings[\"qubit_reduction\"],\n",
    "        )\n",
    "\n",
    "    if kind == \"ry\":\n",
    "        return RY(qubitOp.num_qubits, initial_state=initial_state)\n",
    "\n",
    "    if kind == \"ryrz\":\n",
    "        var_form = RYRZ(qubitOp.num_qubits, initial_state=initial_state)\n",
    "\n",
    "    if kind == \"swaprz\":\n",
    "        var_form = SwapRZ(qubitOp.num_qubits, initial_state=initial_state)\n",
    "\n",
    "    if kind == \"esu2\":\n",
    "        var_form = EfficientSU2(\n",
    "            qubitOp.num_qubits, initial_state=initial_state, entanglement=\"linear\",\n",
    "        )\n",
    "\n",
    "    raise ValueError(\n",
    "        \"`kind` mist be one `uccsd`, `ry`, `ryrz`, `swaprz` \" f\"or `esu2`, not {kind}\"\n",
    "    )"
   ]
  },
  {
   "cell_type": "code",
   "execution_count": null,
   "metadata": {},
   "outputs": [],
   "source": [
    "def aproximate_solver(qubitOp, form, backend, optimizer, **kwargs):\n",
    "    solver = VQE(qubitOp, form, optimizer, **kwargs)\n",
    "    return solver.run(backend)"
   ]
  },
  {
   "cell_type": "markdown",
   "metadata": {},
   "source": [
    "#### Experiments with IMBQ"
   ]
  },
  {
   "cell_type": "markdown",
   "metadata": {},
   "source": [
    "This was initialy made for HartreFock initial state, UCCSD variational form and COBYLA optimizer with noisy backend, but now you can vary parasm to get many experiments :D"
   ]
  },
  {
   "cell_type": "code",
   "execution_count": null,
   "metadata": {},
   "outputs": [],
   "source": [
    "device = get_device(provider, min_qubits=6)\n",
    "device"
   ]
  },
  {
   "cell_type": "markdown",
   "metadata": {},
   "source": [
    "The experiment starts here! Read comments gto change execution params"
   ]
  },
  {
   "cell_type": "code",
   "execution_count": null,
   "metadata": {},
   "outputs": [],
   "source": [
    "# -*- BEGIN PARAMS -*-\n",
    "# Change the following params to change experiment setup\n",
    "\n",
    "# backend_kind must be one of \"sv\", \"qasm\", \"noisy\"\n",
    "backend_kind = \"noisy\"\n",
    "shots = 100\n",
    "\n",
    "# initial_state_kind must be one of \"zero\", \"hf\"\n",
    "initial_state_kind = \"hf\"\n",
    "\n",
    "# variational_form_kind must be one of \"uccsd\", \"ry\", \"ryrz\", \"swaprz\", \"esu2\":\n",
    "variational_form_kind = \"uccsd\"\n",
    "\n",
    "# optimizer_kind must be one of \"cobyla\", \"l_bfgs_b\", \"slsqp\", \"spsa\"\n",
    "optimizer_kind = \"slsqp\"\n",
    "iterations = 100\n",
    "\n",
    "# -*- END PARAMS -*-\n",
    "\n",
    "timer = datetime.now()\n",
    "experiment_settings = (\n",
    "    backend_kind,\n",
    "    shots,\n",
    "    initial_state_kind,\n",
    "    variational_form_kind,\n",
    "    optimizer_kind,\n",
    "    iterations,\n",
    ")\n",
    "backend = get_backend(backend_kind, device, shots=shots)\n",
    "\n",
    "# Effective computation of solutions using Approximate solver (see\n",
    "# experiment_settings) for (distance, map_type) combinations in settings_tree\n",
    "approximate_energies = {}\n",
    "intermediate_results = {}\n",
    "combination_counter = 0\n",
    "\n",
    "for key in settings_tree:\n",
    "    if key not in approximate_energies:\n",
    "        settings = settings_tree[key]\n",
    "        qubitOp = settings[\"qubitOp\"]\n",
    "\n",
    "        state = init_state(\n",
    "            kind=initial_state_kind,\n",
    "            qubitOp=qubitOp,\n",
    "            # **kwargs,\n",
    "            num_orbitals=settings[\"num_spin_orbitals\"],\n",
    "            num_particles=settings[\"num_particles\"],\n",
    "            qubit_mapping=map_type,\n",
    "            two_qubit_reduction=settings[\"qubit_reduction\"],\n",
    "        )\n",
    "\n",
    "        form = variational_form(\n",
    "            variational_form_kind,\n",
    "            state,\n",
    "            qubitOp,\n",
    "            # **kwargs\n",
    "            num_orbitals=settings[\"num_spin_orbitals\"],\n",
    "            num_particles=settings[\"num_particles\"],\n",
    "            qubit_mapping=map_type,\n",
    "            two_qubit_reduction=settings[\"qubit_reduction\"],\n",
    "        )\n",
    "\n",
    "        optimizer = get_optimizer(optimizer_kind, iterations=iterations)\n",
    "\n",
    "        intermediate_results[key] = {\n",
    "            \"counts\": [],\n",
    "            \"values\": [],\n",
    "            \"params\": [],\n",
    "            \"deviation\": [],\n",
    "        }\n",
    "\n",
    "        def callback(eval_count, parameters, mean, std):\n",
    "            intermediate_results[key][\"counts\"].append(eval_count)\n",
    "            intermediate_results[key][\"values\"].append(mean)\n",
    "            intermediate_results[key][\"params\"].append(parameters)\n",
    "            intermediate_results[key][\"deviation\"].append(std)\n",
    "\n",
    "        # Approximate energy computation\n",
    "        solver_timer = datetime.now()\n",
    "        approximate_energies[key] = aproximate_solver(\n",
    "            qubitOp,\n",
    "            form,\n",
    "            backend,\n",
    "            optimizer,\n",
    "            # **kwargs,\n",
    "            max_evals_grouped=10,\n",
    "            callback=callback,\n",
    "        )\n",
    "        solver_timer = datetime.now() - solver_timer\n",
    "\n",
    "        approximate_energies[key] = dict(approximate_energies[key])\n",
    "        approximate_energies[key].update({\"execution_time\": solver_timer})\n",
    "\n",
    "        combination_counter = combination_counter + 1\n",
    "\n",
    "        print(key, solver_timer)\n",
    "\n",
    "timer = datetime.now() - timer\n",
    "\n",
    "print(\"Exact Energies computed!\")\n",
    "print(f\"{combination_counter} energies computed in {timer}\")"
   ]
  },
  {
   "cell_type": "markdown",
   "metadata": {},
   "source": [
    "Select a file name that reflects the settings of the experiment"
   ]
  },
  {
   "cell_type": "code",
   "execution_count": null,
   "metadata": {},
   "outputs": [],
   "source": [
    "file_name = \"__\".join([str(item) for item in experiment_settings])\n",
    "file_name"
   ]
  },
  {
   "cell_type": "markdown",
   "metadata": {},
   "source": [
    "Now save the object generated in pickle format in order to reuse them and avoid the pain to run exact energy computation again"
   ]
  },
  {
   "cell_type": "code",
   "execution_count": null,
   "metadata": {},
   "outputs": [],
   "source": [
    "file = open(f\"{file_name}.pkl\", \"wb\")\n",
    "dill.dump((experiment_settings, approximate_energies, intermediate_results), file)\n",
    "file.close()"
   ]
  },
  {
   "cell_type": "markdown",
   "metadata": {},
   "source": [
    "Run the following cell in order to load `experiment_settings`, `approximate_energies`, `intermediate_results` from pickle file instead of recomputting it again"
   ]
  },
  {
   "cell_type": "code",
   "execution_count": null,
   "metadata": {},
   "outputs": [],
   "source": [
    "# file_name = ...\n",
    "# file = open(f\"{file_name}.pkl\", \"rb\")\n",
    "# experiment_settings, approximate_energies, intermediate_results = dill.load(file)\n",
    "# file.close()"
   ]
  },
  {
   "cell_type": "markdown",
   "metadata": {},
   "source": [
    "#### Showing data as table"
   ]
  },
  {
   "cell_type": "code",
   "execution_count": null,
   "metadata": {},
   "outputs": [],
   "source": [
    "approximate_data = {\"distance\": distances}\n",
    "\n",
    "for map_type in map_types:\n",
    "    approximate_data[map_type] = []\n",
    "\n",
    "    for key in approximate_energies:\n",
    "        if map_type in key:\n",
    "            # Get the interatomic distance\n",
    "            distance, _ = key\n",
    "\n",
    "            # Get the energy shift\n",
    "            settings = settings_tree[key]\n",
    "            shift = settings[\"energy_shift\"]\n",
    "\n",
    "            energy = approximate_energies[key]\n",
    "            energy = energy[\"eigenvalue\"].real\n",
    "            energy = energy + shift\n",
    "\n",
    "            approximate_data[map_type].append((distance, energy))\n",
    "\n",
    "    # ensure sorting\n",
    "    approximate_data[map_type] = sorted(approximate_data[map_type], key=lambda x: x[0])\n",
    "    _, approximate_data[map_type] = zip(*approximate_data[map_type])\n",
    "\n",
    "approximate_data = pandas.DataFrame(data=approximate_data)\n",
    "approximate_data"
   ]
  },
  {
   "cell_type": "markdown",
   "metadata": {},
   "source": [
    "Save the data to CSV"
   ]
  },
  {
   "cell_type": "code",
   "execution_count": null,
   "metadata": {},
   "outputs": [],
   "source": [
    "approximate_data.to_csv(f\"{file_name}.csv\", index=False)"
   ]
  },
  {
   "cell_type": "code",
   "execution_count": null,
   "metadata": {},
   "outputs": [],
   "source": [
    "ratio = 16.0 / 9.0\n",
    "width = 16\n",
    "height = width / ratio\n",
    "\n",
    "fig = plt.figure(1, figsize=(width, height), frameon=False)\n",
    "axs = fig.add_subplot(\"111\")\n",
    "\n",
    "x = data[\"distance\"]\n",
    "\n",
    "for i, map_type in enumerate(map_types, 1):\n",
    "    y = approximate_data[map_type]\n",
    "    label = map_type\n",
    "    label = r\"$\\mathtt{{approximate\\ {0}}}$\".format(label.replace(\"_\", \"\\_\"))\n",
    "    axs.plot(x, y, label=label, color=material_palette[(i + 1) ** 2 % 16])\n",
    "\n",
    "    y = data[map_type]\n",
    "    label = map_type\n",
    "    label = r\"$\\mathtt{{exact\\ {0}}}$\".format(label.replace(\"_\", \"\\_\"))\n",
    "    axs.plot(x, y, label=label, color=material_palette[(i + 2) ** 2 % 16])\n",
    "\n",
    "axs.set_xlim(0, 4)\n",
    "axs.set_xlabel(\"$\\mathrm{Atomic\\ distance\\ (\\AA)}$\")\n",
    "\n",
    "axs.set_ylim(-8, -4.0)\n",
    "axs.set_ylabel(\"Energy\")\n",
    "axs.set_yticks([y for y in np.arange(-8, -3.5, 0.5)])\n",
    "\n",
    "subtitle = \", \".join(\n",
    "    [\n",
    "        file_name.replace(\"_\", \"\\_\"),\n",
    "        backend.backend_name.replace(\"_\", \"\\_\"),\n",
    "        device.name().replace(\"_\", \"\\_\"),\n",
    "    ]\n",
    ")\n",
    "axs.set_title(\"$\\mathrm{{Energy\\ for\\ LiH}}$\\n\\n$\\mathtt{{{0}}}$\".format(subtitle))\n",
    "\n",
    "axs.legend(loc=1, title=r\"$\\mathbf{{Qubit\\ mappings}}$\")\n",
    "axs.grid(linestyle=\"-\")\n",
    "fig.tight_layout()\n",
    "fig.savefig(f\"{file_name}__energy.jpg\", dpi=600)\n",
    "plt.show()\n",
    "plt.close(fig)"
   ]
  },
  {
   "cell_type": "code",
   "execution_count": null,
   "metadata": {},
   "outputs": [],
   "source": [
    "minimum_idxs = data[map_types].idxmin()\n",
    "minimun_energies = data[map_types].min()\n",
    "minimun_distances = pandas.Series(\n",
    "    {map_type: data[\"distance\"][minimum_idxs[map_type]] for map_type in map_types}\n",
    ")"
   ]
  },
  {
   "cell_type": "code",
   "execution_count": null,
   "metadata": {},
   "outputs": [],
   "source": [
    "ratio = 16.0 / 9.0\n",
    "width = 16\n",
    "height = width / ratio\n",
    "\n",
    "fig = plt.figure(1, figsize=(width, height), frameon=False)\n",
    "axs = fig.add_subplot(\"111\")\n",
    "x_upper_lim = 0\n",
    "\n",
    "for i, map_type in enumerate(map_types):\n",
    "    key = (minimun_distances[map_type], map_type)\n",
    "\n",
    "    x = intermediate_results[key][\"counts\"]\n",
    "    y = intermediate_results[key][\"values\"]\n",
    "\n",
    "    label = map_type\n",
    "    label = r\"$\\mathtt{{{0}}}$\".format(label.replace(\"_\", \"\\_\"))\n",
    "    axs.plot(\n",
    "        x,\n",
    "        y,\n",
    "        linestyle=\"dashed\",\n",
    "        marker=\"*\",\n",
    "        label=label,\n",
    "        color=material_palette[(i + 1) ** 2 % 16],\n",
    "    )\n",
    "\n",
    "    if max(x) > x_upper_lim:\n",
    "        x_upper_lim = max(x)\n",
    "\n",
    "x_upper_lim = x_upper_lim + 10\n",
    "x_upper_lim = x_upper_lim - (x_upper_lim % 10)\n",
    "\n",
    "axs.set_ylim(-1.5, 1.5)\n",
    "axs.set_ylabel(\"Energy Minimization\")\n",
    "axs.set_yticks(np.arange(-1.5, 2, 0.5))\n",
    "\n",
    "axs.set_xlim(0, x_upper_lim)\n",
    "axs.set_xlabel(\"$\\mathrm{Eval.\\ counts}$\")\n",
    "\n",
    "subtitle = \", \".join(\n",
    "    [\n",
    "        file_name.replace(\"_\", \"\\_\"),\n",
    "        backend.backend_name.replace(\"_\", \"\\_\"),\n",
    "        device.name().replace(\"_\", \"\\_\"),\n",
    "    ]\n",
    ")\n",
    "axs.set_title(\n",
    "    \"$\\mathrm{{Energy\\ convergence\\ for\\ VQE\\ procedure\\ {0}}}$\\n\\n$\\mathtt{{{1}}}$\".format(\n",
    "        variational_form_kind.upper(), subtitle\n",
    "    )\n",
    ")\n",
    "\n",
    "axs.legend(loc=1, title=r\"$\\mathbf{{Qubit\\ mappings}}$\")\n",
    "axs.grid(linestyle=\"-\")\n",
    "fig.tight_layout()\n",
    "fig.savefig(f\"{file_name}__energy_convergence_at_minimum_energy.jpg\", dpi=600)\n",
    "plt.show()\n",
    "plt.close(fig)"
   ]
  },
  {
   "cell_type": "code",
   "execution_count": null,
   "metadata": {},
   "outputs": [],
   "source": [
    "ratio = 16.0 / 9.0\n",
    "width = 16\n",
    "height = width / ratio\n",
    "\n",
    "fig = plt.figure(1, figsize=(width, height), frameon=False)\n",
    "axs = fig.add_subplot(\"111\")\n",
    "x_upper_lim = 0\n",
    "\n",
    "for i, map_type in enumerate(map_types):\n",
    "    key = (minimun_distances[map_type], map_type)\n",
    "\n",
    "    exact_energy_reference = exact_energies[key]\n",
    "    exact_energy_reference = exact_energy_reference[\"eigenvalues\"][0].real\n",
    "\n",
    "    x = intermediate_results[key][\"counts\"]\n",
    "    y = np.array(intermediate_results[key][\"values\"]) - exact_energy_reference\n",
    "    y = abs(y / exact_energy_reference)\n",
    "\n",
    "    label = map_type\n",
    "    label = r\"$\\mathtt{{{0}}}$\".format(label.replace(\"_\", \"\\_\"))\n",
    "    axs.plot(\n",
    "        x,\n",
    "        y,\n",
    "        linestyle=\"dashed\",\n",
    "        marker=\"*\",\n",
    "        label=label,\n",
    "        color=material_palette[(i + 1) ** 2 % 16],\n",
    "    )\n",
    "\n",
    "    if max(x) > x_upper_lim:\n",
    "        x_upper_lim = max(x)\n",
    "\n",
    "x_upper_lim = x_upper_lim + 10\n",
    "x_upper_lim = x_upper_lim - (x_upper_lim % 10)\n",
    "\n",
    "axs.set_ylabel(\"Logscale\\ Error\")\n",
    "axs.set_yscale(\"log\")\n",
    "\n",
    "axs.set_xlim(0, x_upper_lim)\n",
    "axs.set_xlabel(\"$\\mathrm{Eval.\\ counts}$\")\n",
    "\n",
    "subtitle = \", \".join(\n",
    "    [\n",
    "        file_name.replace(\"_\", \"\\_\"),\n",
    "        backend.backend_name.replace(\"_\", \"\\_\"),\n",
    "        device.name().replace(\"_\", \"\\_\"),\n",
    "    ]\n",
    ")\n",
    "axs.set_title(\n",
    "    \"$\\mathrm{{Logscale\\ Error\\ of\\ VQE\\ procedure\\ {0}}}$\\n\\n$\\mathtt{{{1}}}$\".format(\n",
    "        variational_form_kind.upper(), subtitle\n",
    "    )\n",
    ")\n",
    "\n",
    "axs.legend(loc=1, title=r\"$\\mathbf{{Qubit\\ mappings}}$\")\n",
    "axs.grid(linestyle=\"-\")\n",
    "fig.tight_layout()\n",
    "fig.savefig(f\"{file_name}__logscale_error_at_minimum_energy.jpg\", dpi=600)\n",
    "plt.show()\n",
    "plt.close(fig)"
   ]
  },
  {
   "cell_type": "code",
   "execution_count": null,
   "metadata": {},
   "outputs": [],
   "source": []
  }
 ],
 "metadata": {
  "kernelspec": {
   "display_name": "Python 3",
   "language": "python",
   "name": "python3"
  },
  "language_info": {
   "codemirror_mode": {
    "name": "ipython",
    "version": 3
   },
   "file_extension": ".py",
   "mimetype": "text/x-python",
   "name": "python",
   "nbconvert_exporter": "python",
   "pygments_lexer": "ipython3",
   "version": "3.8.2"
  }
 },
 "nbformat": 4,
 "nbformat_minor": 4
}
